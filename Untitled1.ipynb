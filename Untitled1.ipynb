{
 "cells": [
  {
   "cell_type": "code",
   "execution_count": 1,
   "metadata": {
    "collapsed": false
   },
   "outputs": [
    {
     "name": "stdout",
     "output_type": "stream",
     "text": [
      "Populating the interactive namespace from numpy and matplotlib\n"
     ]
    }
   ],
   "source": [
    "%pylab inline\n",
    "import pandas as pd\n",
    "import matplotlib.pyplot as plt\n",
    "import matplotlib.dates as mdates\n",
    "import numpy as np\n",
    "\n",
    "\n",
    "df = pd.read_csv"
   ]
  },
  {
   "cell_type": "code",
   "execution_count": 12,
   "metadata": {
    "collapsed": false
   },
   "outputs": [],
   "source": [
    "import time \n",
    "\n",
    "df = pd.read_csv(\"ETF/AGQ.csv\")\n",
    "\n",
    "columns = ['Data', 'Open', 'High', 'Low', 'Close', 'Volume']\n",
    "df.columns = columns\n",
    "\n",
    "\n",
    "df = convert_data_to_int(df)"
   ]
  },
  {
   "cell_type": "code",
   "execution_count": 20,
   "metadata": {
    "collapsed": false
   },
   "outputs": [
    {
     "name": "stdout",
     "output_type": "stream",
     "text": [
      "None\n"
     ]
    },
    {
     "ename": "TypeError",
     "evalue": "an integer is required",
     "output_type": "error",
     "traceback": [
      "\u001b[1;31m---------------------------------------------------------------------------\u001b[0m",
      "\u001b[1;31mTypeError\u001b[0m                                 Traceback (most recent call last)",
      "\u001b[1;32m<ipython-input-20-5eec5c0b9cdb>\u001b[0m in \u001b[0;36m<module>\u001b[1;34m()\u001b[0m\n\u001b[0;32m     11\u001b[0m     \u001b[1;32mif\u001b[0m \u001b[1;33m(\u001b[0m\u001b[0mess_\u001b[0m\u001b[1;33m[\u001b[0m\u001b[0mi\u001b[0m\u001b[1;33m]\u001b[0m \u001b[1;33m<\u001b[0m \u001b[0mess_\u001b[0m\u001b[1;33m[\u001b[0m\u001b[0mi\u001b[0m\u001b[1;33m-\u001b[0m\u001b[1;36m1\u001b[0m\u001b[1;33m]\u001b[0m \u001b[1;32mand\u001b[0m \u001b[0mess_\u001b[0m\u001b[1;33m[\u001b[0m\u001b[0mi\u001b[0m\u001b[1;33m]\u001b[0m \u001b[1;33m<\u001b[0m \u001b[0mess_\u001b[0m\u001b[1;33m[\u001b[0m\u001b[0mi\u001b[0m\u001b[1;33m+\u001b[0m\u001b[1;36m1\u001b[0m\u001b[1;33m]\u001b[0m\u001b[1;33m)\u001b[0m\u001b[1;33m:\u001b[0m\u001b[1;33m\u001b[0m\u001b[0m\n\u001b[0;32m     12\u001b[0m         \u001b[0mcnt\u001b[0m \u001b[1;33m+=\u001b[0m \u001b[1;36m1\u001b[0m\u001b[1;33m\u001b[0m\u001b[0m\n\u001b[1;32m---> 13\u001b[1;33m         \u001b[0mdraw_lower_line\u001b[0m\u001b[1;33m(\u001b[0m\u001b[0mfig\u001b[0m\u001b[1;33m,\u001b[0m \u001b[0max\u001b[0m\u001b[1;33m,\u001b[0m \u001b[0mresx\u001b[0m\u001b[1;33m[\u001b[0m\u001b[1;33m:\u001b[0m\u001b[0mi\u001b[0m\u001b[1;33m+\u001b[0m\u001b[1;36m1\u001b[0m\u001b[1;33m]\u001b[0m\u001b[1;33m,\u001b[0m \u001b[0mess_\u001b[0m\u001b[1;33m[\u001b[0m\u001b[1;33m:\u001b[0m\u001b[0mi\u001b[0m\u001b[1;33m+\u001b[0m\u001b[1;36m1\u001b[0m\u001b[1;33m]\u001b[0m\u001b[1;33m,\u001b[0m \u001b[1;36m10\u001b[0m\u001b[1;33m)\u001b[0m\u001b[1;33m\u001b[0m\u001b[0m\n\u001b[0m\u001b[0;32m     14\u001b[0m \u001b[1;33m\u001b[0m\u001b[0m\n\u001b[0;32m     15\u001b[0m \u001b[1;33m\u001b[0m\u001b[0m\n",
      "\u001b[1;32m<ipython-input-14-0163a70db016>\u001b[0m in \u001b[0;36mdraw_lower_line\u001b[1;34m(fig, ax, resx, resy, count)\u001b[0m\n\u001b[0;32m      2\u001b[0m     \u001b[0mdraw_plot\u001b[0m\u001b[1;33m(\u001b[0m\u001b[0mfig\u001b[0m\u001b[1;33m,\u001b[0m \u001b[0max\u001b[0m\u001b[1;33m,\u001b[0m \u001b[1;36m0\u001b[0m\u001b[1;33m,\u001b[0m \u001b[0mlen\u001b[0m\u001b[1;33m(\u001b[0m\u001b[0mresx\u001b[0m\u001b[1;33m)\u001b[0m \u001b[1;33m-\u001b[0m \u001b[1;36m1\u001b[0m\u001b[1;33m,\u001b[0m \u001b[0mresx\u001b[0m\u001b[1;33m,\u001b[0m \u001b[0mresy\u001b[0m\u001b[1;33m)\u001b[0m\u001b[1;33m\u001b[0m\u001b[0m\n\u001b[0;32m      3\u001b[0m \u001b[1;33m\u001b[0m\u001b[0m\n\u001b[1;32m----> 4\u001b[1;33m     \u001b[0mpoint\u001b[0m\u001b[1;33m,\u001b[0m \u001b[0mpoints\u001b[0m\u001b[1;33m,\u001b[0m \u001b[0ma\u001b[0m\u001b[1;33m,\u001b[0m\u001b[0mb\u001b[0m \u001b[1;33m=\u001b[0m \u001b[0msupport_lines2\u001b[0m\u001b[1;33m(\u001b[0m\u001b[0mresx\u001b[0m\u001b[1;33m,\u001b[0m \u001b[0mresy\u001b[0m\u001b[1;33m,\u001b[0m \u001b[1;36m0.01\u001b[0m\u001b[1;33m,\u001b[0m \u001b[0mcount\u001b[0m\u001b[1;33m)\u001b[0m\u001b[1;33m\u001b[0m\u001b[0m\n\u001b[0m\u001b[0;32m      5\u001b[0m \u001b[1;33m\u001b[0m\u001b[0m\n\u001b[0;32m      6\u001b[0m     \u001b[0mdraw_points\u001b[0m\u001b[1;33m(\u001b[0m\u001b[0mfig\u001b[0m\u001b[1;33m,\u001b[0m \u001b[0max\u001b[0m\u001b[1;33m,\u001b[0m \u001b[1;33m[\u001b[0m\u001b[0mpoint\u001b[0m\u001b[1;33m]\u001b[0m\u001b[1;33m,\u001b[0m \u001b[1;36m1\u001b[0m\u001b[1;33m)\u001b[0m\u001b[1;33m\u001b[0m\u001b[0m\n",
      "\u001b[1;32m<ipython-input-19-cd2d64634133>\u001b[0m in \u001b[0;36msupport_lines2\u001b[1;34m(arx, ary, epsilon, count)\u001b[0m\n\u001b[0;32m     14\u001b[0m \u001b[1;33m\u001b[0m\u001b[0m\n\u001b[0;32m     15\u001b[0m     \u001b[0mtg\u001b[0m \u001b[1;33m=\u001b[0m \u001b[1;33m[\u001b[0m\u001b[1;33m]\u001b[0m\u001b[1;33m\u001b[0m\u001b[0m\n\u001b[1;32m---> 16\u001b[1;33m     \u001b[1;32mfor\u001b[0m \u001b[0mi\u001b[0m \u001b[1;32min\u001b[0m \u001b[0mxrange\u001b[0m\u001b[1;33m(\u001b[0m\u001b[0mi_point\u001b[0m\u001b[1;33m)\u001b[0m\u001b[1;33m:\u001b[0m\u001b[1;33m\u001b[0m\u001b[0m\n\u001b[0m\u001b[0;32m     17\u001b[0m         tg.append((-tangent(arx[i_point], ary[i_point], arx[i], ary[i]), \n\u001b[0;32m     18\u001b[0m                    -abs(arx[i_point]- arx[i]), i))\n",
      "\u001b[1;31mTypeError\u001b[0m: an integer is required"
     ]
    },
    {
     "data": {
      "image/png": "[encoded data removed]",
      "text/plain": [
       "<matplotlib.figure.Figure at 0x51d7f10>"
      ]
     },
     "metadata": {},
     "output_type": "display_data"
    }
   ],
   "source": [
    "fig, ax = create_plot(0, len(df))\n",
    "\n",
    "resx, res = add_missed(df['Data'], df['Close'])\n",
    "\n",
    "ess_ = ess1(res, 0.1)\n",
    "\n",
    "cnt = 0\n",
    "for i in xrange(1, len(resx)-1):\n",
    "    if cnt == 10:\n",
    "        break\n",
    "    if (ess_[i] < ess_[i-1] and ess_[i] < ess_[i+1]):\n",
    "        cnt += 1\n",
    "        draw_lower_line(fig, ax, resx[:i+1], ess_[:i+1], 10)\n",
    "\n",
    "\n"
   ]
  },
  {
   "cell_type": "code",
   "execution_count": 14,
   "metadata": {
    "collapsed": true
   },
   "outputs": [],
   "source": [
    "def draw_lower_line(fig, ax, resx, resy, count):\n",
    "    draw_plot(fig, ax, 0, len(resx) - 1, resx, resy)\n",
    "\n",
    "    point, points, a,b = support_lines2(resx, resy, 0.01, count)  \n",
    "\n",
    "    draw_points(fig, ax, [point], 1)\n",
    "    draw_points(fig, ax, points, 1)\n",
    "    draw_line(fig, ax, point[0], min([p[0] for p in points]), a, b)"
   ]
  },
  {
   "cell_type": "code",
   "execution_count": 19,
   "metadata": {
    "collapsed": true
   },
   "outputs": [],
   "source": [
    "def support_lines2(arx, ary, epsilon, count):\n",
    "    #rise_flow, cum_rise_flow = rise_flow_middle(ary)     \n",
    "    i_point = None\n",
    "    \n",
    "    for i in xrange(len(ary) - 1, 1, -1):\n",
    "        if (ary[i] <= ary[i-1]):\n",
    "            i_point = i\n",
    "            break\n",
    "    print i_point\n",
    "    def tangent(x1, y1, x2, y2):\n",
    "        return math.atan(1.0 * (y2 - y1)/(x2 - x1))\n",
    "    def dist(x1,y1, x2, y2):\n",
    "        return (x1 - x2) ** 2 + (y1 - y2)** 2 \n",
    "    \n",
    "    tg = []\n",
    "    for i in xrange(i_point):\n",
    "        tg.append((-tangent(arx[i_point], ary[i_point], arx[i], ary[i]), \n",
    "                   -abs(arx[i_point]- arx[i]), i))\n",
    "    point = (arx[i_point], ary[i_point])\n",
    "    tg = sorted(tg)\n",
    "    i = 0\n",
    "    pr = []\n",
    "    for t, d, ind in tg[:count]:\n",
    "        pr.append((arx[ind], ary[ind]))\n",
    "    pr.append(point)\n",
    "    a, b = build_mnk(pr, np.ones(len(pr)))\n",
    "    \n",
    "    return (point, pr, a, b)"
   ]
  },
  {
   "cell_type": "code",
   "execution_count": 6,
   "metadata": {
    "collapsed": true
   },
   "outputs": [],
   "source": [
    "def ess1(ary, alpha):\n",
    "    res = [ary[0]]\n",
    "    prev = ary[0]\n",
    "    for item in ary[1:]:\n",
    "        prev = prev + alpha * (item - prev)\n",
    "        res.append(prev)\n",
    "    return res"
   ]
  },
  {
   "cell_type": "code",
   "execution_count": 3,
   "metadata": {
    "collapsed": true
   },
   "outputs": [],
   "source": [
    "def build_mnk(points, weights):\n",
    "    x = np.array([item[0] for item in points])\n",
    "    y = np.array([item[1] for item in points])\n",
    "    mean_x = sum(x) / len(x)\n",
    "    mean_y = sum(y) / len(y)\n",
    "    a = sum(weights * (x - mean_x) * (y - mean_y)) / sum(weights * (x - mean_x) * (x - mean_x))\n",
    "    b = mean_y - a* mean_x\n",
    "    return a, b"
   ]
  },
  {
   "cell_type": "code",
   "execution_count": 7,
   "metadata": {
    "collapsed": true
   },
   "outputs": [],
   "source": [
    "def create_plot(r1, r2):\n",
    "    fig, ax = plt.subplots(figsize = (22, 8))\n",
    "    return fig, ax\n",
    "    \n",
    "\n",
    "def draw_plot(fig, ax, r1, r2, arr_x, arr_y):\n",
    "    ax.plot(arr_x[r1:r2], arr_y[r1:r2])\n",
    "    datemin = min(arr_x[r1:r2]) - 1\n",
    "    datemax = max(arr_x[r1:r2]) + 1\n",
    "    ax.set_xlim(datemin, datemax)\n",
    "    \n",
    "\n",
    "def draw_line(fig, ax, x1, x2, a, b):\n",
    "    ax.plot([x1, x2], [a*x1 + b, a*x2 + b], 'k-', lw=1)\n",
    "    \n",
    "\n",
    "def draw_points(fig, ax, points, radius):\n",
    "    for point in points:\n",
    "        p = plt.Circle(point, radius ,color='r')\n",
    "        fig.gca().add_artist(p)\n",
    "    "
   ]
  },
  {
   "cell_type": "code",
   "execution_count": 9,
   "metadata": {
    "collapsed": true
   },
   "outputs": [],
   "source": [
    "def convert_data_to_int(df):\n",
    "    l = []\n",
    "    sec_in_day = 60*60*24\n",
    "    for item in df['Data']:\n",
    "        cur_time = time.strptime(item, \"%m/%d/%Y\")\n",
    "        ll = time.mktime(cur_time) / sec_in_day\n",
    "        l.append(int(ll))\n",
    "    df['Data'] = l\n",
    "    return df"
   ]
  },
  {
   "cell_type": "code",
   "execution_count": 10,
   "metadata": {
    "collapsed": true
   },
   "outputs": [],
   "source": [
    "def add_missed(arx, ary):\n",
    "    resx = [arx[0]]\n",
    "    resy = [ary[0]]\n",
    "    for prevx, curx, prevy, cury in zip(arx[:-1], arx[1:], ary[:-1], ary[1:]):\n",
    "        for i in xrange(1, curx - prevx + 1):\n",
    "            resx.append(prevx + i)\n",
    "            resy.append((1- 1.0 * i /(curx - prevx))* prevy + 1.0* i /(curx - prevx) * cury)\n",
    "    return np.array(resx), np.array(resy)"
   ]
  }
 ],
 "metadata": {
  "kernelspec": {
   "display_name": "Python 2",
   "language": "python",
   "name": "python2"
  },
  "language_info": {
   "codemirror_mode": {
    "name": "ipython",
    "version": 2
   },
   "file_extension": ".py",
   "mimetype": "text/x-python",
   "name": "python",
   "nbconvert_exporter": "python",
   "pygments_lexer": "ipython2",
   "version": "2.7.8"
  }
 },
 "nbformat": 4,
 "nbformat_minor": 0
}
