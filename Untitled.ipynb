{
 "cells": [
  {
   "cell_type": "code",
   "execution_count": 1,
   "metadata": {
    "collapsed": false
   },
   "outputs": [
    {
     "name": "stdout",
     "output_type": "stream",
     "text": [
      "Populating the interactive namespace from numpy and matplotlib\n"
     ]
    },
    {
     "data": {
      "text/html": [
       "<div style=\"max-height:1000px;max-width:1500px;overflow:auto;\">\n",
       "<table border=\"1\" class=\"dataframe\">\n",
       "  <thead>\n",
       "    <tr style=\"text-align: right;\">\n",
       "      <th></th>\n",
       "      <th>Data</th>\n",
       "      <th> Open</th>\n",
       "      <th> High</th>\n",
       "      <th> Low</th>\n",
       "      <th> Close</th>\n",
       "      <th> Volume</th>\n",
       "    </tr>\n",
       "  </thead>\n",
       "  <tbody>\n",
       "    <tr>\n",
       "      <th>0</th>\n",
       "      <td>  12/4/2008</td>\n",
       "      <td> 45.78</td>\n",
       "      <td> 46.20</td>\n",
       "      <td> 45.60</td>\n",
       "      <td> 45.60</td>\n",
       "      <td>  1900</td>\n",
       "    </tr>\n",
       "    <tr>\n",
       "      <th>1</th>\n",
       "      <td>  12/5/2008</td>\n",
       "      <td> 44.14</td>\n",
       "      <td> 45.66</td>\n",
       "      <td> 43.20</td>\n",
       "      <td> 45.48</td>\n",
       "      <td>  5800</td>\n",
       "    </tr>\n",
       "    <tr>\n",
       "      <th>2</th>\n",
       "      <td>  12/8/2008</td>\n",
       "      <td> 52.24</td>\n",
       "      <td> 54.28</td>\n",
       "      <td> 49.72</td>\n",
       "      <td> 51.10</td>\n",
       "      <td>  5600</td>\n",
       "    </tr>\n",
       "    <tr>\n",
       "      <th>3</th>\n",
       "      <td>  12/9/2008</td>\n",
       "      <td> 48.36</td>\n",
       "      <td> 50.02</td>\n",
       "      <td> 48.06</td>\n",
       "      <td> 48.94</td>\n",
       "      <td>  7400</td>\n",
       "    </tr>\n",
       "    <tr>\n",
       "      <th>4</th>\n",
       "      <td> 12/10/2008</td>\n",
       "      <td> 52.10</td>\n",
       "      <td> 53.04</td>\n",
       "      <td> 51.40</td>\n",
       "      <td> 52.84</td>\n",
       "      <td> 10700</td>\n",
       "    </tr>\n",
       "  </tbody>\n",
       "</table>\n",
       "</div>"
      ],
      "text/plain": [
       "         Data   Open   High    Low   Close   Volume\n",
       "0   12/4/2008  45.78  46.20  45.60   45.60     1900\n",
       "1   12/5/2008  44.14  45.66  43.20   45.48     5800\n",
       "2   12/8/2008  52.24  54.28  49.72   51.10     5600\n",
       "3   12/9/2008  48.36  50.02  48.06   48.94     7400\n",
       "4  12/10/2008  52.10  53.04  51.40   52.84    10700"
      ]
     },
     "execution_count": 1,
     "metadata": {},
     "output_type": "execute_result"
    }
   ],
   "source": [
    "%pylab inline\n",
    "import pandas as pd\n",
    "import matplotlib.pyplot as plt\n",
    "import matplotlib.dates as mdates\n",
    "import numpy as np\n",
    "\n",
    "\n",
    "df = pd.read_csv(\"ETF/AGQ.csv\")\n",
    "df.head()"
   ]
  },
  {
   "cell_type": "code",
   "execution_count": 2,
   "metadata": {
    "collapsed": false
   },
   "outputs": [],
   "source": [
    "def create_plot(r1, r2):\n",
    "    fig, ax = plt.subplots()\n",
    "    return fig, ax\n",
    "    \n",
    "\n",
    "def draw_plot(fig, ax, r1, r2, arr_x, arr_y):\n",
    "    ax.plot(arr_x[r1:r2], arr_y[r1:r2])\n",
    "    datemin = min(arr_x[r1:r2]) - 1\n",
    "    datemax = max(arr_x[r1:r2]) + 1\n",
    "    ax.set_xlim(datemin, datemax)\n",
    "    \n",
    "\n",
    "def draw_line(fig, ax, x1, x2, a, b):\n",
    "    ax.plot([x1, x2], [a* x1 + b, a*x2 + b], 'k-', lw=2)\n",
    "    \n",
    "\n",
    "def draw_points(fig, ax, points, radius):\n",
    "    for point in points:\n",
    "        p = plt.Circle(point, radius ,color='r')\n",
    "        fig.gca().add_artist(p)\n",
    "    \n",
    "    "
   ]
  },
  {
   "cell_type": "code",
   "execution_count": 3,
   "metadata": {
    "collapsed": true
   },
   "outputs": [],
   "source": [
    "def convert_data_to_int(df):\n",
    "    l = []\n",
    "    sec_in_day = 60*60*24\n",
    "    for item in df['Data']:\n",
    "        cur_time = time.strptime(item, \"%m/%d/%Y\")\n",
    "        ll = time.mktime(cur_time) / sec_in_day\n",
    "        l.append(int(ll))\n",
    "    df['Data'] = l\n",
    "    return df"
   ]
  },
  {
   "cell_type": "code",
   "execution_count": 6,
   "metadata": {
    "collapsed": false
   },
   "outputs": [],
   "source": [
    "import time \n",
    "\n",
    "df = pd.read_csv(\"ETF/AGQ.csv\")\n",
    "\n",
    "columns = ['Data', 'Open', 'High', 'Low', 'Close', 'Volume']\n",
    "df.columns = columns\n",
    "\n",
    "\n",
    "df = convert_data_to_int(df)"
   ]
  },
  {
   "cell_type": "code",
   "execution_count": 7,
   "metadata": {
    "collapsed": true
   },
   "outputs": [],
   "source": [
    "def add_missed(arx, ary):\n",
    "    resx = [arx[0]]\n",
    "    resy = [ary[0]]\n",
    "    for prevx, curx, prevy, cury in zip(arx[:-1], arx[1:], ary[:-1], ary[1:]):\n",
    "        for i in xrange(1, curx - prevx + 1):\n",
    "            resx.append(prevx + i)\n",
    "            resy.append((1- 1.0 * i /(curx - prevx))* prevy + 1.0* i /(curx - prevx) * cury)\n",
    "    return np.array(resx), np.array(resy)"
   ]
  },
  {
   "cell_type": "code",
   "execution_count": 8,
   "metadata": {
    "collapsed": false
   },
   "outputs": [
    {
     "ename": "TypeError",
     "evalue": "draw_plot() takes exactly 6 arguments (4 given)",
     "output_type": "error",
     "traceback": [
      "\u001b[1;31m---------------------------------------------------------------------------\u001b[0m",
      "\u001b[1;31mTypeError\u001b[0m                                 Traceback (most recent call last)",
      "\u001b[1;32m<ipython-input-8-afdf22e51d75>\u001b[0m in \u001b[0;36m<module>\u001b[1;34m()\u001b[0m\n\u001b[0;32m      1\u001b[0m \u001b[0mresx\u001b[0m\u001b[1;33m,\u001b[0m \u001b[0mresy\u001b[0m \u001b[1;33m=\u001b[0m \u001b[0madd_missed\u001b[0m\u001b[1;33m(\u001b[0m\u001b[0mdf\u001b[0m\u001b[1;33m[\u001b[0m\u001b[1;34m'Data'\u001b[0m\u001b[1;33m]\u001b[0m\u001b[1;33m[\u001b[0m\u001b[1;33m:\u001b[0m\u001b[1;36m300\u001b[0m\u001b[1;33m]\u001b[0m\u001b[1;33m,\u001b[0m \u001b[0mdf\u001b[0m\u001b[1;33m[\u001b[0m\u001b[1;34m'Close'\u001b[0m\u001b[1;33m]\u001b[0m\u001b[1;33m[\u001b[0m\u001b[1;33m:\u001b[0m\u001b[1;36m300\u001b[0m\u001b[1;33m]\u001b[0m\u001b[1;33m)\u001b[0m\u001b[1;33m\u001b[0m\u001b[0m\n\u001b[1;32m----> 2\u001b[1;33m \u001b[0mdraw_plot\u001b[0m\u001b[1;33m(\u001b[0m\u001b[1;36m0\u001b[0m\u001b[1;33m,\u001b[0m\u001b[0mlen\u001b[0m\u001b[1;33m(\u001b[0m\u001b[0mresx\u001b[0m\u001b[1;33m)\u001b[0m\u001b[1;33m,\u001b[0m \u001b[0mresx\u001b[0m\u001b[1;33m,\u001b[0m \u001b[0mresy\u001b[0m\u001b[1;33m)\u001b[0m\u001b[1;33m\u001b[0m\u001b[0m\n\u001b[0m",
      "\u001b[1;31mTypeError\u001b[0m: draw_plot() takes exactly 6 arguments (4 given)"
     ]
    }
   ],
   "source": [
    "#resx, resy = add_missed(df['Data'][:300], df['Close'][:300])\n",
    "#draw_plot(0,len(resx), resx, resy)"
   ]
  },
  {
   "cell_type": "code",
   "execution_count": 12,
   "metadata": {
    "collapsed": false
   },
   "outputs": [],
   "source": [
    "resx, resy = add_missed(df['Data'][:300], df['Close'][:300])\n",
    "res = medianBlur(resy, 7)    \n",
    "#draw_plot(0, len(resx), resx, res)"
   ]
  },
  {
   "cell_type": "code",
   "execution_count": 11,
   "metadata": {
    "collapsed": false
   },
   "outputs": [],
   "source": [
    "def medianBlur(arr, width = 3):\n",
    "    if (width % 2 == 0):\n",
    "        raise ValueError(\"Width should be odd int\")\n",
    "    if (len(arr) == 0):\n",
    "        return arr\n",
    "    ar = list(copy(arr))\n",
    "    ar = [arr[0]] * (width / 2) + ar + [arr[-1]] * (width / 2)\n",
    "    cur_sum = sum(ar[:width])\n",
    "    res = [cur_sum]\n",
    "    for initem, outitem in zip(ar[width:], ar[:-width]):\n",
    "        cur_sum = cur_sum + initem - outitem\n",
    "        res.append(cur_sum)\n",
    "    return np.array(res) * 1.0 / width\n",
    "        \n",
    "    \n",
    "    \n",
    "res = medianBlur(df['Close'].as_matrix(), 7)    \n",
    "#draw_plot(0, 300, df['Data'], res)"
   ]
  },
  {
   "cell_type": "code",
   "execution_count": 13,
   "metadata": {
    "collapsed": false
   },
   "outputs": [
    {
     "name": "stdout",
     "output_type": "stream",
     "text": [
      "[ 100.          100.          100.          100.          100.          100.\n",
      "  100.          100.          100.          100.          100.          100.\n",
      "  100.          100.          100.           94.01512718   87.3926936\n",
      "   84.86775171   84.08587974   83.51768231   83.17115063   83.05813598\n",
      "   83.7571942    84.76327362   85.62402763   86.36452746   86.96260884\n",
      "   87.43973303   87.81075318   88.25639346   86.27062646   84.22906496\n",
      "   81.97460045   79.18173155   75.92604915   72.29912318   68.44783936\n",
      "   65.88601813   63.40473778   63.33710558   63.73214902   64.56545605\n",
      "   65.80890172   66.70913795   68.59632333   70.41824819   71.92109744\n",
      "   73.45590821   74.99930726   76.53053444   77.82619591   78.80217014\n",
      "   80.12831939   81.07701835   81.80908976   82.35360786   82.72837485\n",
      "   83.27744071   83.88763569   84.43476199   84.91940422   85.40419544\n",
      "   85.88779608   86.36891794   87.04063149   87.93136165   88.48712381\n",
      "   88.97453295   89.57383948   90.25338175   90.98010721   91.54521303\n",
      "   92.01281449   92.26493456   92.63299003   92.9449494    93.20851218\n",
      "   93.42948063   91.62636607   87.10066812   81.8969264    75.14561002\n",
      "   68.93539811   63.23833361   58.02278985   55.04224441   53.04859551\n",
      "   53.38148619   53.83599917   54.10670926   54.1858263    54.03816853\n",
      "   53.14107146   52.44081463   51.33981726   50.81227577   50.42486653\n",
      "   50.18205998   50.09097791]\n"
     ]
    }
   ],
   "source": [
    "def mma(ary, N):\n",
    "    mma = [ary[0]]\n",
    "    last = ary[0]\n",
    "    for price in ary[1:]:\n",
    "        last = (last * (N-1) + price ) / N\n",
    "        mma.append(last)\n",
    "    return np.array(mma)\n",
    "\n",
    "\n",
    "def rsi(r1, r2, arx, ary):\n",
    "    prev = np.array(ary[r1:r2-1])\n",
    "    cur = np.array(ary[r1+1:r2])\n",
    "    D = np.array(prev - cur)\n",
    "    U = np.array(cur - prev)\n",
    "    np.place(U, U < 0, [0])\n",
    "    np.place(D, D < 0, [0])\n",
    "    rs = mma(U, 27) / mma(D, 27)\n",
    "    rsi = 100 - 100 / (1 + rs)\n",
    "    return rsi\n",
    "    \n",
    "print rsi(0, 100, df['Data'], res)"
   ]
  },
  {
   "cell_type": "code",
   "execution_count": 43,
   "metadata": {
    "collapsed": false
   },
   "outputs": [
    {
     "name": "stdout",
     "output_type": "stream",
     "text": [
      "0.061704980549 -815.37020289\n"
     ]
    },
    {
     "data": {
      "image/png": "[encoded data removed]",
      "text/plain": [
       "<matplotlib.figure.Figure at 0x68ed3f0>"
      ]
     },
     "metadata": {},
     "output_type": "display_data"
    }
   ],
   "source": [
    "from collections import deque\n",
    "\n",
    "def get_mins(r1, r2, arx, ary):\n",
    "    res = []\n",
    "    for prevy, cury, nexty, curx in zip(ary[r1:r2-2], ary[r1+1:r2-1], ary[r1+2:r2], arx[r1+1:r2-1]):\n",
    "        if cury < prevy and cury < nexty:\n",
    "            res.append((curx, cury))\n",
    "    return res\n",
    "\n",
    "\n",
    "def get_weighted_mins(r1, r2, arx, ary):\n",
    "    res = []\n",
    "    for prevy, cury, nexty, curx in zip(ary[r1:r2-2], ary[r1+1:r2-1], ary[r1+2:r2], arx[r1+1:r2-1]):\n",
    "        if cury < prevy and cury < nexty:\n",
    "            res.append((curx, cury))\n",
    "    return res, np.ones(len(res)) # To do later\n",
    "\n",
    "\n",
    "    \n",
    "def get_local_mins(r1, r2, arx, ary, width = 3):\n",
    "    res = medianBlur(ary[r1: r2], width)\n",
    "    return get_weighted_mins(0, len(res), arx[r1: r2], res)\n",
    "    \n",
    "\n",
    "def build_mnk(points, weights):\n",
    "    x = np.array([item[0] for item in points])\n",
    "    y = np.array([item[1] for item in points])\n",
    "    mean_x = sum(x) / len(x)\n",
    "    mean_y = sum(y) / len(y)\n",
    "    a = sum(weights * (x - mean_x) * (y - mean_y)) / sum(weights * (x - mean_x) * (x - mean_x))\n",
    "    b = mean_y - a* mean_x\n",
    "    return a, b\n",
    "\n",
    "\n",
    "def find_low_trend(r1, r2, arx, ary, epsilon):\n",
    "    #mins, weights = get_weighted_mins(r1, r2, arx, ary)\n",
    "    mins, weights = get_local_mins(r1, r2, arx, ary, 21)\n",
    "    a, b = build_mnk(mins, weights)\n",
    "    return  a, b, mins\n",
    "    \n",
    "    \n",
    "    \n",
    "    \n",
    "a, b, mins = find_low_trend(0, 300, df['Data'], res, 0.01)\n",
    "print a,b \n",
    "fig, ax = create_plot(0, 300)\n",
    "draw_plot(fig, ax, 0, 300, df['Data'], res)\n",
    "\n",
    "\n",
    "ary = rsi(0, 300, df['Data'], res)\n",
    "draw_plot(fig, ax, 0, 299, df['Data'], ary)\n",
    "\n",
    "draw_points(fig, ax, mins, 2)\n",
    "draw_line(fig, ax, df['Data'][0], df['Data'][300], a, b)\n",
    "plt.show()"
   ]
  },
  {
   "cell_type": "code",
   "execution_count": 35,
   "metadata": {
    "collapsed": false
   },
   "outputs": [
    {
     "name": "stdout",
     "output_type": "stream",
     "text": [
      "deque([(0, 1)])\n",
      "deque([(0, 1), (1, 2)])\n",
      "deque([(0, 1), (1, 2), (2, 5)])\n",
      "deque([(3, 1)])\n",
      "('Start', deque([(3, 1)]))\n",
      "deque([(3, 1), (4, 8)])\n",
      "('Start', deque([(3, 1), (4, 8)]))\n",
      "deque([(3, 1), (4, 8), (5, 10)])\n",
      "('Start', deque([(3, 1), (4, 8), (5, 10)]))\n",
      "deque([(3, 1), (4, 8), (5, 10), (6, 45)])\n",
      "('Start', deque([(3, 1), (4, 8), (5, 10), (6, 45)]))\n",
      "deque([(3, 1), (7, 1)])\n",
      "('Start', deque([(3, 1), (7, 1)]))\n",
      "deque([(3, 1), (7, 1), (8, 45)])\n",
      "('Start', deque([(3, 1), (7, 1), (8, 45)]))\n",
      "deque([(7, 1), (9, 6)])\n",
      "('Start', deque([(7, 1), (9, 6)]))\n",
      "deque([(7, 1), (9, 6), (10, 78)])\n",
      "('Start', deque([(7, 1), (9, 6), (10, 78)]))\n"
     ]
    },
    {
     "data": {
      "text/plain": [
       "([(0, 1)], array([ 1.]))"
      ]
     },
     "execution_count": 35,
     "metadata": {},
     "output_type": "execute_result"
    }
   ],
   "source": [
    "def get_local_mins(r1, r2, arx, ary, width = 3):\n",
    "    def add_to_deque(deque_mins, x, y):\n",
    "        while True:\n",
    "            try:\n",
    "                last = deque_mins.pop()\n",
    "                if (last[1] <= y):\n",
    "                    deque_mins.append(last)\n",
    "                    break\n",
    "            except IndexError:\n",
    "                break\n",
    "        deque_mins.append((x,y))\n",
    "        print deque_mins\n",
    "        \n",
    "    def delete_from_deque(deque, x):\n",
    "        while True:\n",
    "            try:\n",
    "                head = deque_mins.popleft()\n",
    "                if (head[0] >= x):\n",
    "                    deque_mins.appendleft(head)\n",
    "                    break\n",
    "            except IndexError:\n",
    "                return\n",
    "        \n",
    "    mins = []\n",
    "    deque_mins = deque()\n",
    "    for i in xrange(min(width, len(arx))):\n",
    "        add_to_deque(deque_mins, arx[i], ary[i])\n",
    "    head = deque_mins.popleft()\n",
    "    mins.append(head)\n",
    "    #last_append = head\n",
    "    \n",
    "    for i in xrange(min(width, len(arx)), len(arx)):\n",
    "        add_to_deque(deque_mins, arx[i], ary[i])\n",
    "        print (\"Start\", deque_mins)\n",
    "        head = deque_mins.popleft()\n",
    "        if (head[0] == arx[0]):\n",
    "            mins.append((arx[i], ary[i]))\n",
    "            #last_append = (arx[i], ary[i])\n",
    "        deque_mins.appendleft(head) \n",
    "        delete_from_deque(deque_mins, arx[i] - width - 1)\n",
    "    return mins, np.ones(len(mins)) #to do \n",
    "    \n",
    "    \n",
    "x = [1,2,5,1,8,10,45,1,45,6,78]    \n",
    "get_local_mins(0, len(x), np.arange(len(x)), x)"
   ]
  }
 ],
 "metadata": {
  "kernelspec": {
   "display_name": "Python 2",
   "language": "python",
   "name": "python2"
  },
  "language_info": {
   "codemirror_mode": {
    "name": "ipython",
    "version": 2
   },
   "file_extension": ".py",
   "mimetype": "text/x-python",
   "name": "python",
   "nbconvert_exporter": "python",
   "pygments_lexer": "ipython2",
   "version": "2.7.8"
  }
 },
 "nbformat": 4,
 "nbformat_minor": 0
}
