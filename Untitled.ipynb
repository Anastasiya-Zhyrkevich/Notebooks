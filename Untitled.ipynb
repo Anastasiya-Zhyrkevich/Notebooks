{
 "cells": [
  {
   "cell_type": "code",
   "execution_count": 1,
   "metadata": {
    "collapsed": false
   },
   "outputs": [
    {
     "name": "stdout",
     "output_type": "stream",
     "text": [
      "Populating the interactive namespace from numpy and matplotlib\n"
     ]
    },
    {
     "data": {
      "text/html": [
       "<div style=\"max-height:1000px;max-width:1500px;overflow:auto;\">\n",
       "<table border=\"1\" class=\"dataframe\">\n",
       "  <thead>\n",
       "    <tr style=\"text-align: right;\">\n",
       "      <th></th>\n",
       "      <th>Data</th>\n",
       "      <th> Open</th>\n",
       "      <th> High</th>\n",
       "      <th> Low</th>\n",
       "      <th> Close</th>\n",
       "      <th> Volume</th>\n",
       "    </tr>\n",
       "  </thead>\n",
       "  <tbody>\n",
       "    <tr>\n",
       "      <th>0</th>\n",
       "      <td>  12/4/2008</td>\n",
       "      <td> 45.78</td>\n",
       "      <td> 46.20</td>\n",
       "      <td> 45.60</td>\n",
       "      <td> 45.60</td>\n",
       "      <td>  1900</td>\n",
       "    </tr>\n",
       "    <tr>\n",
       "      <th>1</th>\n",
       "      <td>  12/5/2008</td>\n",
       "      <td> 44.14</td>\n",
       "      <td> 45.66</td>\n",
       "      <td> 43.20</td>\n",
       "      <td> 45.48</td>\n",
       "      <td>  5800</td>\n",
       "    </tr>\n",
       "    <tr>\n",
       "      <th>2</th>\n",
       "      <td>  12/8/2008</td>\n",
       "      <td> 52.24</td>\n",
       "      <td> 54.28</td>\n",
       "      <td> 49.72</td>\n",
       "      <td> 51.10</td>\n",
       "      <td>  5600</td>\n",
       "    </tr>\n",
       "    <tr>\n",
       "      <th>3</th>\n",
       "      <td>  12/9/2008</td>\n",
       "      <td> 48.36</td>\n",
       "      <td> 50.02</td>\n",
       "      <td> 48.06</td>\n",
       "      <td> 48.94</td>\n",
       "      <td>  7400</td>\n",
       "    </tr>\n",
       "    <tr>\n",
       "      <th>4</th>\n",
       "      <td> 12/10/2008</td>\n",
       "      <td> 52.10</td>\n",
       "      <td> 53.04</td>\n",
       "      <td> 51.40</td>\n",
       "      <td> 52.84</td>\n",
       "      <td> 10700</td>\n",
       "    </tr>\n",
       "  </tbody>\n",
       "</table>\n",
       "</div>"
      ],
      "text/plain": [
       "         Data   Open   High    Low   Close   Volume\n",
       "0   12/4/2008  45.78  46.20  45.60   45.60     1900\n",
       "1   12/5/2008  44.14  45.66  43.20   45.48     5800\n",
       "2   12/8/2008  52.24  54.28  49.72   51.10     5600\n",
       "3   12/9/2008  48.36  50.02  48.06   48.94     7400\n",
       "4  12/10/2008  52.10  53.04  51.40   52.84    10700"
      ]
     },
     "execution_count": 1,
     "metadata": {},
     "output_type": "execute_result"
    }
   ],
   "source": [
    "%pylab inline\n",
    "import pandas as pd\n",
    "import matplotlib.pyplot as plt\n",
    "import matplotlib.dates as mdates\n",
    "import numpy as np\n",
    "\n",
    "\n",
    "df = pd.read_csv(\"ETF/AGQ.csv\")\n",
    "df.head()"
   ]
  },
  {
   "cell_type": "code",
   "execution_count": 9,
   "metadata": {
    "collapsed": false
   },
   "outputs": [],
   "source": [
    "import time \n",
    "\n",
    "df = pd.read_csv(\"ETF/AGQ.csv\")\n",
    "\n",
    "columns = ['Data', 'Open', 'High', 'Low', 'Close', 'Volume']\n",
    "df.columns = columns\n",
    "\n",
    "\n",
    "df = convert_data_to_int(df)"
   ]
  },
  {
   "cell_type": "code",
   "execution_count": null,
   "metadata": {
    "collapsed": true
   },
   "outputs": [],
   "source": []
  },
  {
   "cell_type": "code",
   "execution_count": 46,
   "metadata": {
    "collapsed": false
   },
   "outputs": [
    {
     "name": "stdout",
     "output_type": "stream",
     "text": [
      "730\n",
      "730\n"
     ]
    },
    {
     "name": "stderr",
     "output_type": "stream",
     "text": [
      "C:\\Anaconda\\lib\\site-packages\\ipykernel\\__main__.py:8: DeprecationWarning: using a non-integer number instead of an integer will result in an error in the future\n"
     ]
    },
    {
     "data": {
      "image/png": "[encoded data removed]",
      "text/plain": [
       "<matplotlib.figure.Figure at 0x6df5270>"
      ]
     },
     "metadata": {},
     "output_type": "display_data"
    }
   ],
   "source": [
    "fig, ax = create_plot(0, len(df))\n",
    "#draw_plot(fig, ax, 0, len(df), df['Data'], df['Close'])\n",
    "\n",
    "resx, res = add_missed(df['Data'], df['Close'])\n",
    "\n",
    "\n",
    "\n",
    "resx = resx[:(0.3)*len(resx)]\n",
    "res = res [:len(resx)]\n",
    "\n",
    "print len(resx)\n",
    "print len(res)\n",
    "\n",
    "#ary = rsi(0, len(res), resx, res)\n",
    "ess_ = ess1(res, 0.1)\n",
    "\n",
    "draw_lower_line(fig, ax, resx[100:500], ess_[100:500], 20)\n"
   ]
  },
  {
   "cell_type": "code",
   "execution_count": 36,
   "metadata": {
    "collapsed": true
   },
   "outputs": [],
   "source": [
    "def draw_lower_line(fig, ax, resx, resy, count):\n",
    "    draw_plot(fig, ax, 0, len(resx) - 1, resx, resy)\n",
    "\n",
    "    point, points, a,b = support_lines2(resx, resy, 0.01, count)  \n",
    "\n",
    "    draw_points(fig, ax, [point], 1)\n",
    "    draw_points(fig, ax, points, 1)\n",
    "    draw_line(fig, ax, point[0], min([p[0] for p in points]), a, b)"
   ]
  },
  {
   "cell_type": "code",
   "execution_count": 100,
   "metadata": {
    "collapsed": false
   },
   "outputs": [
    {
     "name": "stdout",
     "output_type": "stream",
     "text": [
      "0.321750554397\n",
      "1.2490457724\n"
     ]
    }
   ],
   "source": [
    "print math.atan(1.0/3.0)\n",
    "print math.atan(3.0/1.0)\n"
   ]
  },
  {
   "cell_type": "code",
   "execution_count": 3,
   "metadata": {
    "collapsed": true
   },
   "outputs": [],
   "source": [
    "def build_mnk(points, weights):\n",
    "    x = np.array([item[0] for item in points])\n",
    "    y = np.array([item[1] for item in points])\n",
    "    mean_x = sum(x) / len(x)\n",
    "    mean_y = sum(y) / len(y)\n",
    "    a = sum(weights * (x - mean_x) * (y - mean_y)) / sum(weights * (x - mean_x) * (x - mean_x))\n",
    "    b = mean_y - a* mean_x\n",
    "    return a, b"
   ]
  },
  {
   "cell_type": "code",
   "execution_count": 37,
   "metadata": {
    "collapsed": true
   },
   "outputs": [],
   "source": [
    "\n",
    "        "
   ]
  },
  {
   "cell_type": "code",
   "execution_count": 4,
   "metadata": {
    "collapsed": false
   },
   "outputs": [],
   "source": [
    "def rise_flow_middle(ary):\n",
    "    rise_flow = []\n",
    "    for prev, cur in zip(ary[:-1], ary[1:]):\n",
    "        if prev > cur:\n",
    "            rise_flow.append(-1)\n",
    "        else:\n",
    "            rise_flow.append(1)\n",
    "    cum_rise_flow = []\n",
    "    prev = 0\n",
    "    for item in rise_flow:\n",
    "        prev = prev + item\n",
    "        cum_rise_flow.append(prev)\n",
    "    return rise_flow, cum_rise_flow\n",
    "\n",
    "\n",
    "def support_lines(arx, ary, epsilon):\n",
    "    rise_flow, cum_rise_flow = rise_flow_middle(ary)\n",
    "    i_mins = []\n",
    "    i_maxs = []\n",
    "    to_left_min = []\n",
    "    to_left_max = []\n",
    "    if (rise_flow[0] == 1):\n",
    "        i_mins.append(0)\n",
    "    else:\n",
    "        i_maxs.append(0)\n",
    "    for i in xrange(1, len(ary)- 1):\n",
    "        if (rise_flow[i-1] == -1 and rise_flow[i] == 1):\n",
    "            i_mins.append(i)\n",
    "        if (rise_flow[i-1] == 1 and rise_flow[i]  == -1):\n",
    "            i_maxs.append(i)\n",
    "            \n",
    "    if (rise_flow[-1] == -1):\n",
    "        i_mins.append(len(arx) - 1)\n",
    "    else:\n",
    "        i_maxs.append(len(arx) - 1)       \n",
    "            \n",
    "            \n",
    "    i_min = 0\n",
    "    i_max = 0\n",
    "    for item in xrange(len(ary)):\n",
    "        to_left_min.append(i_mins[i_min])\n",
    "        to_left_max.append(i_maxs[i_max])\n",
    "        if (i_min + 1 < len(i_mins) and i_mins[i_min + 1] == item):\n",
    "            i_min += 1\n",
    "        if (i_max + 1 < len(i_maxs) and i_maxs[i_max + 1] == item):\n",
    "            i_max += 1\n",
    "    point = to_left_min[-1]\n",
    "    \n",
    "    def tangent(x1, y1, x2, y2):\n",
    "        return math.atan(1.0 * (y2 - y1)/(x2 - x1))\n",
    "    def dist(x1,y1, x2, y2):\n",
    "        return (x1 - x2) ** 2 + (y1 - y2)** 2 \n",
    "    \n",
    "    tg = []\n",
    "    for i in xrange(len(i_mins) - 1):\n",
    "        tg.append((-tangent(arx[point], ary[point], arx[i_mins[i]], ary[i_mins[i]]), \n",
    "                   -abs(arx[point]-  arx[i_mins[i]]), i_mins[i]))\n",
    "    \n",
    "    tg = sorted(tg)\n",
    "    i = 0\n",
    "    pr = []\n",
    "    for t, d, ind in tg[:5]:\n",
    "        pr.append((arx[ind], ary[ind]))\n",
    "    \n",
    "    \n",
    "    \n",
    "    \n",
    "    \n",
    "    res = []\n",
    "    p = []\n",
    "    \n",
    "    \n",
    "    last_dist = -1000000000000\n",
    "    \n",
    "    return (pr, end, res, points) \n",
    "        \n",
    "    \n",
    "    \n",
    "    \n",
    "\n",
    "\n",
    "\n"
   ]
  },
  {
   "cell_type": "code",
   "execution_count": 5,
   "metadata": {
    "collapsed": false
   },
   "outputs": [],
   "source": [
    "def ess1(ary, alpha):\n",
    "    res = [ary[0]]\n",
    "    prev = ary[0]\n",
    "    for item in ary[1:]:\n",
    "        prev = prev + alpha * (item - prev)\n",
    "        res.append(prev)\n",
    "    return res"
   ]
  },
  {
   "cell_type": "code",
   "execution_count": 10,
   "metadata": {
    "collapsed": false
   },
   "outputs": [],
   "source": [
    "def mma(ary, N):\n",
    "    mma = [ary[0]]\n",
    "    last = ary[0]\n",
    "    for price in ary[1:]:\n",
    "        last = (last * (N-1) + price ) / N\n",
    "        mma.append(last)\n",
    "    return np.array(mma)\n",
    "\n",
    "\n",
    "def rsi(r1, r2, arx, ary):\n",
    "    prev = np.array(ary[r1:r2-1])\n",
    "    cur = np.array(ary[r1+1:r2])\n",
    "    D = np.array(prev - cur)\n",
    "    U = np.array(cur - prev)\n",
    "    np.place(U, U < 0, [0])\n",
    "    np.place(D, D < 0, [0])\n",
    "    rs = mma(U, 27) / mma(D, 27)\n",
    "    rsi = 100 - 100 / (1 + rs)\n",
    "    print rsi\n",
    "    return rsi\n",
    "    \n",
    "#print rsi(0, 100, df['Data'], res)"
   ]
  },
  {
   "cell_type": "code",
   "execution_count": null,
   "metadata": {
    "collapsed": false
   },
   "outputs": [],
   "source": []
  },
  {
   "cell_type": "code",
   "execution_count": 6,
   "metadata": {
    "collapsed": false
   },
   "outputs": [],
   "source": [
    "def create_plot(r1, r2):\n",
    "    fig, ax = plt.subplots(figsize = (22, 8))\n",
    "    return fig, ax\n",
    "    \n",
    "\n",
    "def draw_plot(fig, ax, r1, r2, arr_x, arr_y):\n",
    "    ax.plot(arr_x[r1:r2], arr_y[r1:r2])\n",
    "    datemin = min(arr_x[r1:r2]) - 1\n",
    "    datemax = max(arr_x[r1:r2]) + 1\n",
    "    ax.set_xlim(datemin, datemax)\n",
    "    \n",
    "\n",
    "def draw_line(fig, ax, x1, x2, a, b):\n",
    "    ax.plot([x1, x2], [a*x1 + b, a*x2 + b], 'k-', lw=1)\n",
    "    \n",
    "\n",
    "def draw_points(fig, ax, points, radius):\n",
    "    for point in points:\n",
    "        p = plt.Circle(point, radius ,color='r')\n",
    "        fig.gca().add_artist(p)\n",
    "    \n",
    "    "
   ]
  },
  {
   "cell_type": "code",
   "execution_count": 7,
   "metadata": {
    "collapsed": true
   },
   "outputs": [],
   "source": [
    "def convert_data_to_int(df):\n",
    "    l = []\n",
    "    sec_in_day = 60*60*24\n",
    "    for item in df['Data']:\n",
    "        cur_time = time.strptime(item, \"%m/%d/%Y\")\n",
    "        ll = time.mktime(cur_time) / sec_in_day\n",
    "        l.append(int(ll))\n",
    "    df['Data'] = l\n",
    "    return df"
   ]
  },
  {
   "cell_type": "code",
   "execution_count": 8,
   "metadata": {
    "collapsed": true
   },
   "outputs": [],
   "source": [
    "def add_missed(arx, ary):\n",
    "    resx = [arx[0]]\n",
    "    resy = [ary[0]]\n",
    "    for prevx, curx, prevy, cury in zip(arx[:-1], arx[1:], ary[:-1], ary[1:]):\n",
    "        for i in xrange(1, curx - prevx + 1):\n",
    "            resx.append(prevx + i)\n",
    "            resy.append((1- 1.0 * i /(curx - prevx))* prevy + 1.0* i /(curx - prevx) * cury)\n",
    "    return np.array(resx), np.array(resy)"
   ]
  },
  {
   "cell_type": "code",
   "execution_count": 8,
   "metadata": {
    "collapsed": false
   },
   "outputs": [
    {
     "ename": "TypeError",
     "evalue": "draw_plot() takes exactly 6 arguments (4 given)",
     "output_type": "error",
     "traceback": [
      "\u001b[1;31m---------------------------------------------------------------------------\u001b[0m",
      "\u001b[1;31mTypeError\u001b[0m                                 Traceback (most recent call last)",
      "\u001b[1;32m<ipython-input-8-afdf22e51d75>\u001b[0m in \u001b[0;36m<module>\u001b[1;34m()\u001b[0m\n\u001b[0;32m      1\u001b[0m \u001b[0mresx\u001b[0m\u001b[1;33m,\u001b[0m \u001b[0mresy\u001b[0m \u001b[1;33m=\u001b[0m \u001b[0madd_missed\u001b[0m\u001b[1;33m(\u001b[0m\u001b[0mdf\u001b[0m\u001b[1;33m[\u001b[0m\u001b[1;34m'Data'\u001b[0m\u001b[1;33m]\u001b[0m\u001b[1;33m[\u001b[0m\u001b[1;33m:\u001b[0m\u001b[1;36m300\u001b[0m\u001b[1;33m]\u001b[0m\u001b[1;33m,\u001b[0m \u001b[0mdf\u001b[0m\u001b[1;33m[\u001b[0m\u001b[1;34m'Close'\u001b[0m\u001b[1;33m]\u001b[0m\u001b[1;33m[\u001b[0m\u001b[1;33m:\u001b[0m\u001b[1;36m300\u001b[0m\u001b[1;33m]\u001b[0m\u001b[1;33m)\u001b[0m\u001b[1;33m\u001b[0m\u001b[0m\n\u001b[1;32m----> 2\u001b[1;33m \u001b[0mdraw_plot\u001b[0m\u001b[1;33m(\u001b[0m\u001b[1;36m0\u001b[0m\u001b[1;33m,\u001b[0m\u001b[0mlen\u001b[0m\u001b[1;33m(\u001b[0m\u001b[0mresx\u001b[0m\u001b[1;33m)\u001b[0m\u001b[1;33m,\u001b[0m \u001b[0mresx\u001b[0m\u001b[1;33m,\u001b[0m \u001b[0mresy\u001b[0m\u001b[1;33m)\u001b[0m\u001b[1;33m\u001b[0m\u001b[0m\n\u001b[0m",
      "\u001b[1;31mTypeError\u001b[0m: draw_plot() takes exactly 6 arguments (4 given)"
     ]
    }
   ],
   "source": [
    "#resx, resy = add_missed(df['Data'][:300], df['Close'][:300])\n",
    "#draw_plot(0,len(resx), resx, resy)"
   ]
  },
  {
   "cell_type": "code",
   "execution_count": 12,
   "metadata": {
    "collapsed": false
   },
   "outputs": [],
   "source": [
    "resx, resy = add_missed(df['Data'][:300], df['Close'][:300])\n",
    "res = medianBlur(resy, 7)    \n",
    "#draw_plot(0, len(resx), resx, res)"
   ]
  },
  {
   "cell_type": "code",
   "execution_count": 11,
   "metadata": {
    "collapsed": false
   },
   "outputs": [],
   "source": [
    "def medianBlur(arr, width = 3):\n",
    "    if (width % 2 == 0):\n",
    "        raise ValueError(\"Width should be odd int\")\n",
    "    if (len(arr) == 0):\n",
    "        return arr\n",
    "    ar = list(copy(arr))\n",
    "    ar = [arr[0]] * (width / 2) + ar + [arr[-1]] * (width / 2)\n",
    "    cur_sum = sum(ar[:width])\n",
    "    res = [cur_sum]\n",
    "    for initem, outitem in zip(ar[width:], ar[:-width]):\n",
    "        cur_sum = cur_sum + initem - outitem\n",
    "        res.append(cur_sum)\n",
    "    return np.array(res) * 1.0 / width\n",
    "        \n",
    "    \n",
    "    \n",
    "res = medianBlur(df['Close'].as_matrix(), 7)    \n",
    "#draw_plot(0, 300, df['Data'], res)"
   ]
  },
  {
   "cell_type": "code",
   "execution_count": 43,
   "metadata": {
    "collapsed": false
   },
   "outputs": [
    {
     "name": "stdout",
     "output_type": "stream",
     "text": [
      "0.061704980549 -815.37020289\n"
     ]
    },
    {
     "data": {
      "image/png": "[encoded data removed]",
      "text/plain": [
       "<matplotlib.figure.Figure at 0x68ed3f0>"
      ]
     },
     "metadata": {},
     "output_type": "display_data"
    }
   ],
   "source": [
    "from collections import deque\n",
    "\n",
    "def get_mins(r1, r2, arx, ary):\n",
    "    res = []\n",
    "    for prevy, cury, nexty, curx in zip(ary[r1:r2-2], ary[r1+1:r2-1], ary[r1+2:r2], arx[r1+1:r2-1]):\n",
    "        if cury < prevy and cury < nexty:\n",
    "            res.append((curx, cury))\n",
    "    return res\n",
    "\n",
    "\n",
    "def get_weighted_mins(r1, r2, arx, ary):\n",
    "    res = []\n",
    "    for prevy, cury, nexty, curx in zip(ary[r1:r2-2], ary[r1+1:r2-1], ary[r1+2:r2], arx[r1+1:r2-1]):\n",
    "        if cury < prevy and cury < nexty:\n",
    "            res.append((curx, cury))\n",
    "    return res, np.ones(len(res)) # To do later\n",
    "\n",
    "\n",
    "    \n",
    "def get_local_mins(r1, r2, arx, ary, width = 3):\n",
    "    res = medianBlur(ary[r1: r2], width)\n",
    "    return get_weighted_mins(0, len(res), arx[r1: r2], res)\n",
    "    \n",
    "\n",
    "def build_mnk(points, weights):\n",
    "    x = np.array([item[0] for item in points])\n",
    "    y = np.array([item[1] for item in points])\n",
    "    mean_x = sum(x) / len(x)\n",
    "    mean_y = sum(y) / len(y)\n",
    "    a = sum(weights * (x - mean_x) * (y - mean_y)) / sum(weights * (x - mean_x) * (x - mean_x))\n",
    "    b = mean_y - a* mean_x\n",
    "    return a, b\n",
    "\n",
    "\n",
    "def find_low_trend(r1, r2, arx, ary, epsilon):\n",
    "    #mins, weights = get_weighted_mins(r1, r2, arx, ary)\n",
    "    mins, weights = get_local_mins(r1, r2, arx, ary, 21)\n",
    "    a, b = build_mnk(mins, weights)\n",
    "    return  a, b, mins\n",
    "    \n",
    "    \n",
    "    \n",
    "    \n",
    "a, b, mins = find_low_trend(0, 300, df['Data'], res, 0.01)\n",
    "print a,b \n",
    "fig, ax = create_plot(0, 300)\n",
    "draw_plot(fig, ax, 0, 300, df['Data'], res)\n",
    "\n",
    "\n",
    "ary = rsi(0, 300, df['Data'], res)\n",
    "draw_plot(fig, ax, 0, 299, df['Data'], ary)\n",
    "\n",
    "draw_points(fig, ax, mins, 2)\n",
    "draw_line(fig, ax, df['Data'][0], df['Data'][300], a, b)\n",
    "plt.show()"
   ]
  },
  {
   "cell_type": "code",
   "execution_count": 35,
   "metadata": {
    "collapsed": false
   },
   "outputs": [
    {
     "name": "stdout",
     "output_type": "stream",
     "text": [
      "deque([(0, 1)])\n",
      "deque([(0, 1), (1, 2)])\n",
      "deque([(0, 1), (1, 2), (2, 5)])\n",
      "deque([(3, 1)])\n",
      "('Start', deque([(3, 1)]))\n",
      "deque([(3, 1), (4, 8)])\n",
      "('Start', deque([(3, 1), (4, 8)]))\n",
      "deque([(3, 1), (4, 8), (5, 10)])\n",
      "('Start', deque([(3, 1), (4, 8), (5, 10)]))\n",
      "deque([(3, 1), (4, 8), (5, 10), (6, 45)])\n",
      "('Start', deque([(3, 1), (4, 8), (5, 10), (6, 45)]))\n",
      "deque([(3, 1), (7, 1)])\n",
      "('Start', deque([(3, 1), (7, 1)]))\n",
      "deque([(3, 1), (7, 1), (8, 45)])\n",
      "('Start', deque([(3, 1), (7, 1), (8, 45)]))\n",
      "deque([(7, 1), (9, 6)])\n",
      "('Start', deque([(7, 1), (9, 6)]))\n",
      "deque([(7, 1), (9, 6), (10, 78)])\n",
      "('Start', deque([(7, 1), (9, 6), (10, 78)]))\n"
     ]
    },
    {
     "data": {
      "text/plain": [
       "([(0, 1)], array([ 1.]))"
      ]
     },
     "execution_count": 35,
     "metadata": {},
     "output_type": "execute_result"
    }
   ],
   "source": [
    "def get_local_mins(r1, r2, arx, ary, width = 3):\n",
    "    def add_to_deque(deque_mins, x, y):\n",
    "        while True:\n",
    "            try:\n",
    "                last = deque_mins.pop()\n",
    "                if (last[1] <= y):\n",
    "                    deque_mins.append(last)\n",
    "                    break\n",
    "            except IndexError:\n",
    "                break\n",
    "        deque_mins.append((x,y))\n",
    "        print deque_mins\n",
    "        \n",
    "    def delete_from_deque(deque, x):\n",
    "        while True:\n",
    "            try:\n",
    "                head = deque_mins.popleft()\n",
    "                if (head[0] >= x):\n",
    "                    deque_mins.appendleft(head)\n",
    "                    break\n",
    "            except IndexError:\n",
    "                return\n",
    "        \n",
    "    mins = []\n",
    "    deque_mins = deque()\n",
    "    for i in xrange(min(width, len(arx))):\n",
    "        add_to_deque(deque_mins, arx[i], ary[i])\n",
    "    head = deque_mins.popleft()\n",
    "    mins.append(head)\n",
    "    #last_append = head\n",
    "    \n",
    "    for i in xrange(min(width, len(arx)), len(arx)):\n",
    "        add_to_deque(deque_mins, arx[i], ary[i])\n",
    "        print (\"Start\", deque_mins)\n",
    "        head = deque_mins.popleft()\n",
    "        if (head[0] == arx[0]):\n",
    "            mins.append((arx[i], ary[i]))\n",
    "            #last_append = (arx[i], ary[i])\n",
    "        deque_mins.appendleft(head) \n",
    "        delete_from_deque(deque_mins, arx[i] - width - 1)\n",
    "    return mins, np.ones(len(mins)) #to do \n",
    "    \n",
    "    \n",
    "x = [1,2,5,1,8,10,45,1,45,6,78]    \n",
    "get_local_mins(0, len(x), np.arange(len(x)), x)"
   ]
  },
  {
   "cell_type": "code",
   "execution_count": null,
   "metadata": {
    "collapsed": true
   },
   "outputs": [],
   "source": [
    "while True:   \n",
    "        while i != len(tg) and tg[i][1] < last_dist:\n",
    "            i += 1\n",
    "        if i == len(tg):\n",
    "            break\n",
    "        ii = i\n",
    "        while ii != len(tg)-1 and abs(tg[ii][0] - tg[i][0]) < epsilon:\n",
    "            ii += 1\n",
    "        print (i, ii)\n",
    "        if ii - i > 2:\n",
    "            points = [(arx[tg[j][2]], ary[tg[j][2]]) for j in xrange(i, ii+1)]\n",
    "            x2 = arx[tg[i][2]]\n",
    "            for j in xrange(i, ii+1):\n",
    "                last_dist = max(last_dist, tg[j][1])\n",
    "                x2 = min(x2, arx[tg[j][2]])\n",
    "                \n",
    "            print last_dist\n",
    "            a,b = build_mnk(points, np.ones(len(points)))\n",
    "            \n",
    "            \n",
    "            \n",
    "            res.append((a,b,x2))\n",
    "            p.append(points)\n",
    "        i = ii+1\n",
    "    end = (arx[point], ary[point])\n",
    "    "
   ]
  }
 ],
 "metadata": {
  "kernelspec": {
   "display_name": "Python 2",
   "language": "python",
   "name": "python2"
  },
  "language_info": {
   "codemirror_mode": {
    "name": "ipython",
    "version": 2
   },
   "file_extension": ".py",
   "mimetype": "text/x-python",
   "name": "python",
   "nbconvert_exporter": "python",
   "pygments_lexer": "ipython2",
   "version": "2.7.8"
  }
 },
 "nbformat": 4,
 "nbformat_minor": 0
}
